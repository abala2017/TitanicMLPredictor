{
  "nbformat": 4,
  "nbformat_minor": 0,
  "metadata": {
    "colab": {
      "name": "Titanic Machine Learning.ipynb",
      "provenance": [],
      "collapsed_sections": [],
      "authorship_tag": "ABX9TyNTyTn6RPW4phghpoWTSYSm",
      "include_colab_link": true
    },
    "kernelspec": {
      "name": "python3",
      "display_name": "Python 3"
    }
  },
  "cells": [
    {
      "cell_type": "markdown",
      "metadata": {
        "id": "view-in-github",
        "colab_type": "text"
      },
      "source": [
        "<a href=\"https://colab.research.google.com/github/abala2017/TitanicMLPredictor/blob/master/Titanic_Machine_Learning.ipynb\" target=\"_parent\"><img src=\"https://colab.research.google.com/assets/colab-badge.svg\" alt=\"Open In Colab\"/></a>"
      ]
    },
    {
      "cell_type": "code",
      "metadata": {
        "id": "DE4AS_PVza5A",
        "colab_type": "code",
        "colab": {}
      },
      "source": [
        "from __future__ import print_function\n",
        "\n",
        "import math\n",
        "\n",
        "from IPython import display\n",
        "from matplotlib import cm\n",
        "from matplotlib import gridspec\n",
        "from matplotlib import pyplot as plt\n",
        "import numpy as np\n",
        "import pandas as pd\n",
        "from sklearn import metrics\n",
        "%tensorflow_version 1.x\n",
        "import tensorflow as tf\n",
        "from tensorflow.python.data import Dataset\n",
        "import scipy.optimize as sci"
      ],
      "execution_count": 0,
      "outputs": []
    },
    {
      "cell_type": "code",
      "metadata": {
        "id": "L9OPpz1XcWfc",
        "colab_type": "code",
        "colab": {}
      },
      "source": [
        "def sigmoid(m):\n",
        "  z = 1/(1 + np.exp(-m)) \n",
        "  return z"
      ],
      "execution_count": 0,
      "outputs": []
    },
    {
      "cell_type": "code",
      "metadata": {
        "id": "p3YlTc-UJppn",
        "colab_type": "code",
        "outputId": "da8815e2-91aa-4f64-cba6-890e85cf3dfb",
        "colab": {
          "base_uri": "https://localhost:8080/",
          "height": 284
        }
      },
      "source": [
        "test_data =pd.read_csv(\"https://drive.google.com/uc?export=download&id=1SOvz5VEmzKutGK4MGolDEk15NV2u3Mjm\", sep=\",\")\n",
        "train_data =pd.read_csv(\"https://drive.google.com/uc?export=download&id=14L86YTyGwbuJAp10-doHFQ5TNuyIdX2v\", sep=\",\")\n",
        "train_data[\"Age\"] = train_data[\"Age\"].apply(lambda val: 30.27 if(math.isnan(val)) else val )\n",
        "test_data[\"Age\"] = test_data[\"Age\"].apply(lambda val: 30.27 if(math.isnan(val)) else val )\n",
        "train_data[\"Gender\"] = train_data[\"Sex\"].apply(lambda val: 1 if(val == \"female\") else 0 )\n",
        "test_data[\"Gender\"] = test_data[\"Sex\"].apply(lambda val: 1 if(val == \"female\") else 0 )\n",
        "train_data.describe()"
      ],
      "execution_count": 571,
      "outputs": [
        {
          "output_type": "execute_result",
          "data": {
            "text/html": [
              "<div>\n",
              "<style scoped>\n",
              "    .dataframe tbody tr th:only-of-type {\n",
              "        vertical-align: middle;\n",
              "    }\n",
              "\n",
              "    .dataframe tbody tr th {\n",
              "        vertical-align: top;\n",
              "    }\n",
              "\n",
              "    .dataframe thead th {\n",
              "        text-align: right;\n",
              "    }\n",
              "</style>\n",
              "<table border=\"1\" class=\"dataframe\">\n",
              "  <thead>\n",
              "    <tr style=\"text-align: right;\">\n",
              "      <th></th>\n",
              "      <th>PassengerId</th>\n",
              "      <th>Survived</th>\n",
              "      <th>Pclass</th>\n",
              "      <th>Age</th>\n",
              "      <th>SibSp</th>\n",
              "      <th>Parch</th>\n",
              "      <th>Fare</th>\n",
              "      <th>Gender</th>\n",
              "    </tr>\n",
              "  </thead>\n",
              "  <tbody>\n",
              "    <tr>\n",
              "      <th>count</th>\n",
              "      <td>891.000000</td>\n",
              "      <td>891.000000</td>\n",
              "      <td>891.000000</td>\n",
              "      <td>891.000000</td>\n",
              "      <td>891.000000</td>\n",
              "      <td>891.000000</td>\n",
              "      <td>891.000000</td>\n",
              "      <td>891.000000</td>\n",
              "    </tr>\n",
              "    <tr>\n",
              "      <th>mean</th>\n",
              "      <td>446.000000</td>\n",
              "      <td>0.383838</td>\n",
              "      <td>2.308642</td>\n",
              "      <td>29.812525</td>\n",
              "      <td>0.523008</td>\n",
              "      <td>0.381594</td>\n",
              "      <td>32.204208</td>\n",
              "      <td>0.352413</td>\n",
              "    </tr>\n",
              "    <tr>\n",
              "      <th>std</th>\n",
              "      <td>257.353842</td>\n",
              "      <td>0.486592</td>\n",
              "      <td>0.836071</td>\n",
              "      <td>13.004012</td>\n",
              "      <td>1.102743</td>\n",
              "      <td>0.806057</td>\n",
              "      <td>49.693429</td>\n",
              "      <td>0.477990</td>\n",
              "    </tr>\n",
              "    <tr>\n",
              "      <th>min</th>\n",
              "      <td>1.000000</td>\n",
              "      <td>0.000000</td>\n",
              "      <td>1.000000</td>\n",
              "      <td>0.420000</td>\n",
              "      <td>0.000000</td>\n",
              "      <td>0.000000</td>\n",
              "      <td>0.000000</td>\n",
              "      <td>0.000000</td>\n",
              "    </tr>\n",
              "    <tr>\n",
              "      <th>25%</th>\n",
              "      <td>223.500000</td>\n",
              "      <td>0.000000</td>\n",
              "      <td>2.000000</td>\n",
              "      <td>22.000000</td>\n",
              "      <td>0.000000</td>\n",
              "      <td>0.000000</td>\n",
              "      <td>7.910400</td>\n",
              "      <td>0.000000</td>\n",
              "    </tr>\n",
              "    <tr>\n",
              "      <th>50%</th>\n",
              "      <td>446.000000</td>\n",
              "      <td>0.000000</td>\n",
              "      <td>3.000000</td>\n",
              "      <td>30.270000</td>\n",
              "      <td>0.000000</td>\n",
              "      <td>0.000000</td>\n",
              "      <td>14.454200</td>\n",
              "      <td>0.000000</td>\n",
              "    </tr>\n",
              "    <tr>\n",
              "      <th>75%</th>\n",
              "      <td>668.500000</td>\n",
              "      <td>1.000000</td>\n",
              "      <td>3.000000</td>\n",
              "      <td>35.000000</td>\n",
              "      <td>1.000000</td>\n",
              "      <td>0.000000</td>\n",
              "      <td>31.000000</td>\n",
              "      <td>1.000000</td>\n",
              "    </tr>\n",
              "    <tr>\n",
              "      <th>max</th>\n",
              "      <td>891.000000</td>\n",
              "      <td>1.000000</td>\n",
              "      <td>3.000000</td>\n",
              "      <td>80.000000</td>\n",
              "      <td>8.000000</td>\n",
              "      <td>6.000000</td>\n",
              "      <td>512.329200</td>\n",
              "      <td>1.000000</td>\n",
              "    </tr>\n",
              "  </tbody>\n",
              "</table>\n",
              "</div>"
            ],
            "text/plain": [
              "       PassengerId    Survived      Pclass  ...       Parch        Fare      Gender\n",
              "count   891.000000  891.000000  891.000000  ...  891.000000  891.000000  891.000000\n",
              "mean    446.000000    0.383838    2.308642  ...    0.381594   32.204208    0.352413\n",
              "std     257.353842    0.486592    0.836071  ...    0.806057   49.693429    0.477990\n",
              "min       1.000000    0.000000    1.000000  ...    0.000000    0.000000    0.000000\n",
              "25%     223.500000    0.000000    2.000000  ...    0.000000    7.910400    0.000000\n",
              "50%     446.000000    0.000000    3.000000  ...    0.000000   14.454200    0.000000\n",
              "75%     668.500000    1.000000    3.000000  ...    0.000000   31.000000    1.000000\n",
              "max     891.000000    1.000000    3.000000  ...    6.000000  512.329200    1.000000\n",
              "\n",
              "[8 rows x 8 columns]"
            ]
          },
          "metadata": {
            "tags": []
          },
          "execution_count": 571
        }
      ]
    },
    {
      "cell_type": "code",
      "metadata": {
        "id": "k1JffDY6O6O4",
        "colab_type": "code",
        "outputId": "e3f7c809-599a-4092-d7e3-bb0e95b335fd",
        "colab": {
          "base_uri": "https://localhost:8080/",
          "height": 284
        }
      },
      "source": [
        "test_data.describe()"
      ],
      "execution_count": 572,
      "outputs": [
        {
          "output_type": "execute_result",
          "data": {
            "text/html": [
              "<div>\n",
              "<style scoped>\n",
              "    .dataframe tbody tr th:only-of-type {\n",
              "        vertical-align: middle;\n",
              "    }\n",
              "\n",
              "    .dataframe tbody tr th {\n",
              "        vertical-align: top;\n",
              "    }\n",
              "\n",
              "    .dataframe thead th {\n",
              "        text-align: right;\n",
              "    }\n",
              "</style>\n",
              "<table border=\"1\" class=\"dataframe\">\n",
              "  <thead>\n",
              "    <tr style=\"text-align: right;\">\n",
              "      <th></th>\n",
              "      <th>PassengerId</th>\n",
              "      <th>Pclass</th>\n",
              "      <th>Age</th>\n",
              "      <th>SibSp</th>\n",
              "      <th>Parch</th>\n",
              "      <th>Fare</th>\n",
              "      <th>Gender</th>\n",
              "    </tr>\n",
              "  </thead>\n",
              "  <tbody>\n",
              "    <tr>\n",
              "      <th>count</th>\n",
              "      <td>418.000000</td>\n",
              "      <td>418.000000</td>\n",
              "      <td>418.000000</td>\n",
              "      <td>418.000000</td>\n",
              "      <td>418.000000</td>\n",
              "      <td>417.000000</td>\n",
              "      <td>418.000000</td>\n",
              "    </tr>\n",
              "    <tr>\n",
              "      <th>mean</th>\n",
              "      <td>1100.500000</td>\n",
              "      <td>2.265550</td>\n",
              "      <td>30.272057</td>\n",
              "      <td>0.447368</td>\n",
              "      <td>0.392344</td>\n",
              "      <td>35.627188</td>\n",
              "      <td>0.363636</td>\n",
              "    </tr>\n",
              "    <tr>\n",
              "      <th>std</th>\n",
              "      <td>120.810458</td>\n",
              "      <td>0.841838</td>\n",
              "      <td>12.634534</td>\n",
              "      <td>0.896760</td>\n",
              "      <td>0.981429</td>\n",
              "      <td>55.907576</td>\n",
              "      <td>0.481622</td>\n",
              "    </tr>\n",
              "    <tr>\n",
              "      <th>min</th>\n",
              "      <td>892.000000</td>\n",
              "      <td>1.000000</td>\n",
              "      <td>0.170000</td>\n",
              "      <td>0.000000</td>\n",
              "      <td>0.000000</td>\n",
              "      <td>0.000000</td>\n",
              "      <td>0.000000</td>\n",
              "    </tr>\n",
              "    <tr>\n",
              "      <th>25%</th>\n",
              "      <td>996.250000</td>\n",
              "      <td>1.000000</td>\n",
              "      <td>23.000000</td>\n",
              "      <td>0.000000</td>\n",
              "      <td>0.000000</td>\n",
              "      <td>7.895800</td>\n",
              "      <td>0.000000</td>\n",
              "    </tr>\n",
              "    <tr>\n",
              "      <th>50%</th>\n",
              "      <td>1100.500000</td>\n",
              "      <td>3.000000</td>\n",
              "      <td>30.270000</td>\n",
              "      <td>0.000000</td>\n",
              "      <td>0.000000</td>\n",
              "      <td>14.454200</td>\n",
              "      <td>0.000000</td>\n",
              "    </tr>\n",
              "    <tr>\n",
              "      <th>75%</th>\n",
              "      <td>1204.750000</td>\n",
              "      <td>3.000000</td>\n",
              "      <td>35.750000</td>\n",
              "      <td>1.000000</td>\n",
              "      <td>0.000000</td>\n",
              "      <td>31.500000</td>\n",
              "      <td>1.000000</td>\n",
              "    </tr>\n",
              "    <tr>\n",
              "      <th>max</th>\n",
              "      <td>1309.000000</td>\n",
              "      <td>3.000000</td>\n",
              "      <td>76.000000</td>\n",
              "      <td>8.000000</td>\n",
              "      <td>9.000000</td>\n",
              "      <td>512.329200</td>\n",
              "      <td>1.000000</td>\n",
              "    </tr>\n",
              "  </tbody>\n",
              "</table>\n",
              "</div>"
            ],
            "text/plain": [
              "       PassengerId      Pclass         Age  ...       Parch        Fare      Gender\n",
              "count   418.000000  418.000000  418.000000  ...  418.000000  417.000000  418.000000\n",
              "mean   1100.500000    2.265550   30.272057  ...    0.392344   35.627188    0.363636\n",
              "std     120.810458    0.841838   12.634534  ...    0.981429   55.907576    0.481622\n",
              "min     892.000000    1.000000    0.170000  ...    0.000000    0.000000    0.000000\n",
              "25%     996.250000    1.000000   23.000000  ...    0.000000    7.895800    0.000000\n",
              "50%    1100.500000    3.000000   30.270000  ...    0.000000   14.454200    0.000000\n",
              "75%    1204.750000    3.000000   35.750000  ...    0.000000   31.500000    1.000000\n",
              "max    1309.000000    3.000000   76.000000  ...    9.000000  512.329200    1.000000\n",
              "\n",
              "[8 rows x 7 columns]"
            ]
          },
          "metadata": {
            "tags": []
          },
          "execution_count": 572
        }
      ]
    },
    {
      "cell_type": "code",
      "metadata": {
        "id": "EuM9PUI-PbWZ",
        "colab_type": "code",
        "outputId": "3385e281-8a88-47fc-baa0-3c906685bd18",
        "colab": {
          "base_uri": "https://localhost:8080/",
          "height": 284
        }
      },
      "source": [
        "t_data = train_data.head(790)\n",
        "t_data.describe()"
      ],
      "execution_count": 573,
      "outputs": [
        {
          "output_type": "execute_result",
          "data": {
            "text/html": [
              "<div>\n",
              "<style scoped>\n",
              "    .dataframe tbody tr th:only-of-type {\n",
              "        vertical-align: middle;\n",
              "    }\n",
              "\n",
              "    .dataframe tbody tr th {\n",
              "        vertical-align: top;\n",
              "    }\n",
              "\n",
              "    .dataframe thead th {\n",
              "        text-align: right;\n",
              "    }\n",
              "</style>\n",
              "<table border=\"1\" class=\"dataframe\">\n",
              "  <thead>\n",
              "    <tr style=\"text-align: right;\">\n",
              "      <th></th>\n",
              "      <th>PassengerId</th>\n",
              "      <th>Survived</th>\n",
              "      <th>Pclass</th>\n",
              "      <th>Age</th>\n",
              "      <th>SibSp</th>\n",
              "      <th>Parch</th>\n",
              "      <th>Fare</th>\n",
              "      <th>Gender</th>\n",
              "    </tr>\n",
              "  </thead>\n",
              "  <tbody>\n",
              "    <tr>\n",
              "      <th>count</th>\n",
              "      <td>790.000000</td>\n",
              "      <td>790.000000</td>\n",
              "      <td>790.000000</td>\n",
              "      <td>790.000000</td>\n",
              "      <td>790.000000</td>\n",
              "      <td>790.000000</td>\n",
              "      <td>790.000000</td>\n",
              "      <td>790.000000</td>\n",
              "    </tr>\n",
              "    <tr>\n",
              "      <th>mean</th>\n",
              "      <td>395.500000</td>\n",
              "      <td>0.387342</td>\n",
              "      <td>2.303797</td>\n",
              "      <td>29.938127</td>\n",
              "      <td>0.513924</td>\n",
              "      <td>0.374684</td>\n",
              "      <td>33.177146</td>\n",
              "      <td>0.353165</td>\n",
              "    </tr>\n",
              "    <tr>\n",
              "      <th>std</th>\n",
              "      <td>228.197648</td>\n",
              "      <td>0.487451</td>\n",
              "      <td>0.837257</td>\n",
              "      <td>13.026859</td>\n",
              "      <td>1.035092</td>\n",
              "      <td>0.803268</td>\n",
              "      <td>51.795839</td>\n",
              "      <td>0.478256</td>\n",
              "    </tr>\n",
              "    <tr>\n",
              "      <th>min</th>\n",
              "      <td>1.000000</td>\n",
              "      <td>0.000000</td>\n",
              "      <td>1.000000</td>\n",
              "      <td>0.670000</td>\n",
              "      <td>0.000000</td>\n",
              "      <td>0.000000</td>\n",
              "      <td>0.000000</td>\n",
              "      <td>0.000000</td>\n",
              "    </tr>\n",
              "    <tr>\n",
              "      <th>25%</th>\n",
              "      <td>198.250000</td>\n",
              "      <td>0.000000</td>\n",
              "      <td>2.000000</td>\n",
              "      <td>22.000000</td>\n",
              "      <td>0.000000</td>\n",
              "      <td>0.000000</td>\n",
              "      <td>7.925000</td>\n",
              "      <td>0.000000</td>\n",
              "    </tr>\n",
              "    <tr>\n",
              "      <th>50%</th>\n",
              "      <td>395.500000</td>\n",
              "      <td>0.000000</td>\n",
              "      <td>3.000000</td>\n",
              "      <td>30.270000</td>\n",
              "      <td>0.000000</td>\n",
              "      <td>0.000000</td>\n",
              "      <td>14.500000</td>\n",
              "      <td>0.000000</td>\n",
              "    </tr>\n",
              "    <tr>\n",
              "      <th>75%</th>\n",
              "      <td>592.750000</td>\n",
              "      <td>1.000000</td>\n",
              "      <td>3.000000</td>\n",
              "      <td>35.000000</td>\n",
              "      <td>1.000000</td>\n",
              "      <td>0.000000</td>\n",
              "      <td>31.275000</td>\n",
              "      <td>1.000000</td>\n",
              "    </tr>\n",
              "    <tr>\n",
              "      <th>max</th>\n",
              "      <td>790.000000</td>\n",
              "      <td>1.000000</td>\n",
              "      <td>3.000000</td>\n",
              "      <td>80.000000</td>\n",
              "      <td>8.000000</td>\n",
              "      <td>6.000000</td>\n",
              "      <td>512.329200</td>\n",
              "      <td>1.000000</td>\n",
              "    </tr>\n",
              "  </tbody>\n",
              "</table>\n",
              "</div>"
            ],
            "text/plain": [
              "       PassengerId    Survived      Pclass  ...       Parch        Fare      Gender\n",
              "count   790.000000  790.000000  790.000000  ...  790.000000  790.000000  790.000000\n",
              "mean    395.500000    0.387342    2.303797  ...    0.374684   33.177146    0.353165\n",
              "std     228.197648    0.487451    0.837257  ...    0.803268   51.795839    0.478256\n",
              "min       1.000000    0.000000    1.000000  ...    0.000000    0.000000    0.000000\n",
              "25%     198.250000    0.000000    2.000000  ...    0.000000    7.925000    0.000000\n",
              "50%     395.500000    0.000000    3.000000  ...    0.000000   14.500000    0.000000\n",
              "75%     592.750000    1.000000    3.000000  ...    0.000000   31.275000    1.000000\n",
              "max     790.000000    1.000000    3.000000  ...    6.000000  512.329200    1.000000\n",
              "\n",
              "[8 rows x 8 columns]"
            ]
          },
          "metadata": {
            "tags": []
          },
          "execution_count": 573
        }
      ]
    },
    {
      "cell_type": "code",
      "metadata": {
        "id": "r_zQTHSOSiyL",
        "colab_type": "code",
        "colab": {
          "base_uri": "https://localhost:8080/",
          "height": 284
        },
        "outputId": "f83a1d5a-773f-493a-9fcf-5c14c7e6cdac"
      },
      "source": [
        "v_data = train_data.tail(100)\n",
        "validation_data.describe()"
      ],
      "execution_count": 574,
      "outputs": [
        {
          "output_type": "execute_result",
          "data": {
            "text/html": [
              "<div>\n",
              "<style scoped>\n",
              "    .dataframe tbody tr th:only-of-type {\n",
              "        vertical-align: middle;\n",
              "    }\n",
              "\n",
              "    .dataframe tbody tr th {\n",
              "        vertical-align: top;\n",
              "    }\n",
              "\n",
              "    .dataframe thead th {\n",
              "        text-align: right;\n",
              "    }\n",
              "</style>\n",
              "<table border=\"1\" class=\"dataframe\">\n",
              "  <thead>\n",
              "    <tr style=\"text-align: right;\">\n",
              "      <th></th>\n",
              "      <th>PassengerId</th>\n",
              "      <th>Survived</th>\n",
              "      <th>Pclass</th>\n",
              "      <th>Age</th>\n",
              "      <th>SibSp</th>\n",
              "      <th>Parch</th>\n",
              "      <th>Fare</th>\n",
              "      <th>Gender</th>\n",
              "    </tr>\n",
              "  </thead>\n",
              "  <tbody>\n",
              "    <tr>\n",
              "      <th>count</th>\n",
              "      <td>100.000000</td>\n",
              "      <td>100.000000</td>\n",
              "      <td>100.000000</td>\n",
              "      <td>100.00000</td>\n",
              "      <td>100.000000</td>\n",
              "      <td>100.000000</td>\n",
              "      <td>100.000000</td>\n",
              "      <td>100.000000</td>\n",
              "    </tr>\n",
              "    <tr>\n",
              "      <th>mean</th>\n",
              "      <td>841.500000</td>\n",
              "      <td>0.360000</td>\n",
              "      <td>2.340000</td>\n",
              "      <td>28.81570</td>\n",
              "      <td>0.600000</td>\n",
              "      <td>0.440000</td>\n",
              "      <td>24.762540</td>\n",
              "      <td>0.350000</td>\n",
              "    </tr>\n",
              "    <tr>\n",
              "      <th>std</th>\n",
              "      <td>29.011492</td>\n",
              "      <td>0.482418</td>\n",
              "      <td>0.831452</td>\n",
              "      <td>12.90927</td>\n",
              "      <td>1.543968</td>\n",
              "      <td>0.832666</td>\n",
              "      <td>27.373013</td>\n",
              "      <td>0.479372</td>\n",
              "    </tr>\n",
              "    <tr>\n",
              "      <th>min</th>\n",
              "      <td>792.000000</td>\n",
              "      <td>0.000000</td>\n",
              "      <td>1.000000</td>\n",
              "      <td>0.42000</td>\n",
              "      <td>0.000000</td>\n",
              "      <td>0.000000</td>\n",
              "      <td>0.000000</td>\n",
              "      <td>0.000000</td>\n",
              "    </tr>\n",
              "    <tr>\n",
              "      <th>25%</th>\n",
              "      <td>816.750000</td>\n",
              "      <td>0.000000</td>\n",
              "      <td>2.000000</td>\n",
              "      <td>21.75000</td>\n",
              "      <td>0.000000</td>\n",
              "      <td>0.000000</td>\n",
              "      <td>7.895800</td>\n",
              "      <td>0.000000</td>\n",
              "    </tr>\n",
              "    <tr>\n",
              "      <th>50%</th>\n",
              "      <td>841.500000</td>\n",
              "      <td>0.000000</td>\n",
              "      <td>3.000000</td>\n",
              "      <td>30.27000</td>\n",
              "      <td>0.000000</td>\n",
              "      <td>0.000000</td>\n",
              "      <td>13.000000</td>\n",
              "      <td>0.000000</td>\n",
              "    </tr>\n",
              "    <tr>\n",
              "      <th>75%</th>\n",
              "      <td>866.250000</td>\n",
              "      <td>1.000000</td>\n",
              "      <td>3.000000</td>\n",
              "      <td>34.12500</td>\n",
              "      <td>1.000000</td>\n",
              "      <td>1.000000</td>\n",
              "      <td>30.000000</td>\n",
              "      <td>1.000000</td>\n",
              "    </tr>\n",
              "    <tr>\n",
              "      <th>max</th>\n",
              "      <td>891.000000</td>\n",
              "      <td>1.000000</td>\n",
              "      <td>3.000000</td>\n",
              "      <td>74.00000</td>\n",
              "      <td>8.000000</td>\n",
              "      <td>5.000000</td>\n",
              "      <td>164.866700</td>\n",
              "      <td>1.000000</td>\n",
              "    </tr>\n",
              "  </tbody>\n",
              "</table>\n",
              "</div>"
            ],
            "text/plain": [
              "       PassengerId    Survived      Pclass  ...       Parch        Fare      Gender\n",
              "count   100.000000  100.000000  100.000000  ...  100.000000  100.000000  100.000000\n",
              "mean    841.500000    0.360000    2.340000  ...    0.440000   24.762540    0.350000\n",
              "std      29.011492    0.482418    0.831452  ...    0.832666   27.373013    0.479372\n",
              "min     792.000000    0.000000    1.000000  ...    0.000000    0.000000    0.000000\n",
              "25%     816.750000    0.000000    2.000000  ...    0.000000    7.895800    0.000000\n",
              "50%     841.500000    0.000000    3.000000  ...    0.000000   13.000000    0.000000\n",
              "75%     866.250000    1.000000    3.000000  ...    1.000000   30.000000    1.000000\n",
              "max     891.000000    1.000000    3.000000  ...    5.000000  164.866700    1.000000\n",
              "\n",
              "[8 rows x 8 columns]"
            ]
          },
          "metadata": {
            "tags": []
          },
          "execution_count": 574
        }
      ]
    },
    {
      "cell_type": "code",
      "metadata": {
        "id": "6lmQn1W0Tcz1",
        "colab_type": "code",
        "colab": {}
      },
      "source": [
        "def Features(data):\n",
        "  \"Get the data for x ready\"\n",
        "  data_Array = pd.DataFrame()\n",
        "  data_Array[\"firstClass\"] = data[\"Pclass\"].apply(lambda val: 1 if(val==1) else 0)\n",
        "  data_Array[\"secondClass\"] = data[\"Pclass\"].apply(lambda val: 1 if(val==2) else 0)\n",
        "  data_Array[\"thirdClass\"] = data[\"Pclass\"].apply(lambda val: 1 if(val==3) else 0)\n",
        "  data_Array[\"Age\"] = data[\"Age\"]\n",
        "  data_Array[\"SibSp\"] = data[\"SibSp\"]\n",
        "  data_Array[\"Parch\"] = data[\"Parch\"]\n",
        "  data_Array[\"Fare\"] = data[\"Fare\"]\n",
        "  data_Array[\"Male\"] = data[\"Sex\"].apply(lambda val: 1 if(val == \"male\") else 0)\n",
        "  data_Array[\"Female\"] = data[\"Sex\"].apply(lambda val: 1 if(val == \"female\") else 0)\n",
        "  return data_Array"
      ],
      "execution_count": 0,
      "outputs": []
    },
    {
      "cell_type": "code",
      "metadata": {
        "id": "UFqdrS89YfF8",
        "colab_type": "code",
        "colab": {}
      },
      "source": [
        "def Labels(data):\n",
        "  data_Array = pd.DataFrame()\n",
        "  data_Array[\"Survived\"] = data[\"Survived\"].apply(lambda val: 1 if(val==1) else 0)\n",
        "  return data_Array"
      ],
      "execution_count": 0,
      "outputs": []
    },
    {
      "cell_type": "code",
      "metadata": {
        "id": "jgj2jTt3Woam",
        "colab_type": "code",
        "colab": {}
      },
      "source": [
        "t_features = Features(t_data)\n",
        "t_labels = Labels(t_data)\n",
        "v_features = Features(v_data).to_numpy()\n",
        "v_labels = Labels(v_data).to_numpy()"
      ],
      "execution_count": 0,
      "outputs": []
    },
    {
      "cell_type": "code",
      "metadata": {
        "id": "Zs6cBM4FZ1xV",
        "colab_type": "code",
        "colab": {}
      },
      "source": [
        "def CostFunction(theta,X,y):\n",
        "  m = X.shape[0]  #training examples\n",
        "  J = 1/m * np.sum(-y * np.matrix.transpose(np.log(sigmoid(X.dot(theta))))- (1-y) * np.matrix.transpose(np.log(1- sigmoid(X.dot(theta)))))\n",
        "  return J"
      ],
      "execution_count": 0,
      "outputs": []
    },
    {
      "cell_type": "code",
      "metadata": {
        "id": "1Q5z9CEmiFF6",
        "colab_type": "code",
        "colab": {}
      },
      "source": [
        "def Gradient(theta, X, y):\n",
        "  m = X.shape[0]\n",
        "  #grad = 1/m * (np.matrix.transpose(((np.matrix.transpose((sigmoid(X * np.matrix.transpose(theta)))))-y)) * X)\n",
        "  y = y.reshape(m,1)\n",
        "  grad = 1/m * np.matrix.transpose(sigmoid(X.dot(theta)) - y).dot(X)\n",
        "  return grad"
      ],
      "execution_count": 0,
      "outputs": []
    },
    {
      "cell_type": "code",
      "metadata": {
        "id": "G1hOdjGoaD7W",
        "colab_type": "code",
        "colab": {
          "base_uri": "https://localhost:8080/",
          "height": 67
        },
        "outputId": "37839553-edab-460c-f0be-56eba95e7666"
      },
      "source": [
        "theta = np.zeros([t_features.shape[1],1])\n",
        "X = t_features.to_numpy()\n",
        "Y = t_labels.to_numpy()\n",
        "optimumVal = sci.minimize(fun = CostFunc1, x0= theta,args=(X,Y), jac = Gradient1)\n",
        "theta = optimumVal.x"
      ],
      "execution_count": 580,
      "outputs": [
        {
          "output_type": "stream",
          "text": [
            "/usr/local/lib/python3.6/dist-packages/ipykernel_launcher.py:14: RuntimeWarning: divide by zero encountered in log\n",
            "  \n",
            "/usr/local/lib/python3.6/dist-packages/ipykernel_launcher.py:17: RuntimeWarning: invalid value encountered in multiply\n"
          ],
          "name": "stderr"
        }
      ]
    },
    {
      "cell_type": "code",
      "metadata": {
        "id": "GSSEMOGNx0w2",
        "colab_type": "code",
        "colab": {}
      },
      "source": [
        "def predict(theta,X,Y):\n",
        "  predicted = sigmoid(X.dot(theta))\n",
        "  return predicted"
      ],
      "execution_count": 0,
      "outputs": []
    },
    {
      "cell_type": "code",
      "metadata": {
        "id": "bAxJR8600TyG",
        "colab_type": "code",
        "colab": {}
      },
      "source": [
        "def getAccuracy(theta,X,y):\n",
        "  m = X.shape[0]\n",
        "  predicted = predict(theta,X,y)\n",
        "  is1 = lambda val: 1 if(val>=.5) else 0\n",
        "  is1Vectorized = np.vectorize(is1)\n",
        "  predicted = is1Vectorized(predicted)\n",
        "  y = np.array(y.T)\n",
        "  isEqual = lambda val1,val2: 1 if(val1==val2) else 0\n",
        "  isEqualVectorized = np.vectorize(isEqual)\n",
        "  accuracyVector = isEqualVectorized(predicted,y)\n",
        "  accuracy = (np.sum(accuracyVector)/m)*100\n",
        "  return accuracy"
      ],
      "execution_count": 0,
      "outputs": []
    },
    {
      "cell_type": "code",
      "metadata": {
        "id": "6dvpvZkPFma0",
        "colab_type": "code",
        "colab": {
          "base_uri": "https://localhost:8080/",
          "height": 34
        },
        "outputId": "e6b404c4-01af-4173-ea59-0e3f5e6a3683"
      },
      "source": [
        "# Validation test\n",
        "getAccuracy(theta,v_features,v_labels)"
      ],
      "execution_count": 606,
      "outputs": [
        {
          "output_type": "execute_result",
          "data": {
            "text/plain": [
              "82.0"
            ]
          },
          "metadata": {
            "tags": []
          },
          "execution_count": 606
        }
      ]
    },
    {
      "cell_type": "code",
      "metadata": {
        "id": "67O4U-YrI9tk",
        "colab_type": "code",
        "colab": {}
      },
      "source": [
        ""
      ],
      "execution_count": 0,
      "outputs": []
    }
  ]
}